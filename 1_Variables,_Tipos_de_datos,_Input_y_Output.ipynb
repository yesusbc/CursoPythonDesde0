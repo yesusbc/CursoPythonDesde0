{
  "nbformat": 4,
  "nbformat_minor": 0,
  "metadata": {
    "colab": {
      "name": "1.- Variables, Tipos de datos, Input y Output.ipynb",
      "provenance": []
    },
    "kernelspec": {
      "name": "python3",
      "display_name": "Python 3"
    },
    "language_info": {
      "name": "python"
    }
  },
  "cells": [
    {
      "cell_type": "markdown",
      "metadata": {
        "id": "CpgTaB5LqzYc"
      },
      "source": [
        "#Introducción a Python"
      ]
    },
    {
      "cell_type": "markdown",
      "metadata": {
        "id": "obvKJ7zPrByM"
      },
      "source": [
        "## ¿Porqué Python?\n",
        "\n",
        "\n",
        "*   Gran variedad de usos\n",
        "    *   Desarrollo web\n",
        "    *   Big Data\n",
        "    *   Inteligencia Artificial\n",
        "    *   Videojuegos\n",
        "    *   Finanzas\n",
        "    *   Blockchain\n",
        "    *   Etc. Etc.\n",
        "*   Lenguaje Interpretado\n",
        "*   Multiplataforma (Interpretes en Unix, Linux, Windows y Mac Os)\n",
        "*   Dinámico (No hay que decir el tipo de dato de una variable)\n",
        "*   Empresas de alto prestigio lo usan (Google, Facebook, Instagram)\n",
        "*   Orientado a objetos\n",
        "*   Librerias de gran utilidad, así como frameworks\n",
        "\n",
        "***Python es un lenguaje hablado, su objetivo es ayudar a la creación de software,\n",
        "no el tener que lidiar con peculiaridades del lenguaje.***\n"
      ]
    },
    {
      "cell_type": "markdown",
      "metadata": {
        "id": "NdfAM7pstZBX"
      },
      "source": [
        "## Comentarios\n",
        "Los comentarios es una forma de documentar tu código.\n",
        "\n",
        "Ayudan a describir cómo funciona tu programa."
      ]
    },
    {
      "cell_type": "code",
      "metadata": {
        "id": "SJqpKYFhuExB"
      },
      "source": [
        "# Este es un comentario de solo 1 línea\n",
        "\n",
        "\"\"\"\n",
        "Este es un \n",
        "comentario de tipo bloque.\n",
        "\n",
        "Sirve cuando quieres añadir una explicación más descriptiva.\n",
        "\"\"\""
      ],
      "execution_count": null,
      "outputs": []
    },
    {
      "cell_type": "markdown",
      "metadata": {
        "id": "FKvKKPsnuSjZ"
      },
      "source": [
        "## Identación en Python\n",
        "\n",
        "Del ingles *\\\"Identation\\\"*\n",
        "\n",
        "Python usa lo que se conoce como *Identación*, algo muy similar a la sangría.\n",
        "\n",
        "Indica el nivel de jerarquía que tiene cada fragmento de código.\n",
        " \n",
        "Ya sea con tabulaciones o espacios, marca los distintos bloques\n",
        "de código.\n"
      ]
    },
    {
      "cell_type": "code",
      "metadata": {
        "id": "i34DhXfbvrbJ"
      },
      "source": [
        "print(\"Entre estos dos prints\")\n",
        "print(\"No hay identación\")"
      ],
      "execution_count": null,
      "outputs": []
    },
    {
      "cell_type": "code",
      "metadata": {
        "id": "8o0U8bI4v1xb"
      },
      "source": [
        "print(\"Entre estos dos prints\")\n",
        "  print(\"Sí hay identación, y es incorrecto\")\n",
        "  print(\"Porqué no hay distinción de jerarquía\")"
      ],
      "execution_count": null,
      "outputs": []
    },
    {
      "cell_type": "code",
      "metadata": {
        "id": "F7y5DPn5v_Ht"
      },
      "source": [
        "# Al mismo nivel\n",
        "print(\"Entre estos dos prints\")\n",
        "\n",
        "# Al mismo nivel\n",
        "def print_explanation():\n",
        "  # Se require tabulacion, porque está dentro de lo que se conoce como \"una función\"\n",
        "  print(\"Sí existe jerarquía, y por ende\")\n",
        "  print(\"va tabulado\")\n",
        "\n",
        "# Al mismo nivel\n",
        "print_explanation()"
      ],
      "execution_count": null,
      "outputs": []
    },
    {
      "cell_type": "markdown",
      "metadata": {
        "id": "moepVzfJwjmd"
      },
      "source": [
        "## Nombramiento de variables\n",
        "\n",
        "Python consiste de unas reglas básicas para el nombramiento de variables."
      ]
    },
    {
      "cell_type": "code",
      "metadata": {
        "id": "RidxgW6Nwxk4"
      },
      "source": [
        "# 1.- Variable debe empezar con un guion bajo o con una letra (alphanumerico A-z, _)\n",
        "_my_variable\n",
        "nombre_de_usuario\n",
        "apellidoUsuario\n",
        "\n",
        "# 2.- No puede empezar con numeros, es decir, el nombre 2variables no es valido\n",
        "\n",
        "# 3.- Una variable solo puede tener valores alphanumericos (alphanumerico A-z, 0-9, _)\n",
        "mi_variable_1\n",
        "mi_variable_2\n",
        "\n",
        "# 4.- Las variables son sensitivas a las mayusculas\n",
        "# La variable Usuario no es lo mismo que usuario"
      ],
      "execution_count": null,
      "outputs": []
    },
    {
      "cell_type": "markdown",
      "metadata": {
        "id": "3Rolo_rgx4XO"
      },
      "source": [
        "## Tipos de datos\n",
        "\n",
        "En python, todo valor que pueda ser asignado a una variable tiene asociado un\n",
        "tipo de dato.\n",
        "\n",
        "Entre los tipos de datos básicos de Python están los booleanos,\n",
        "los numéricos (enteros, punto flotante y complejos) y las cadenas de caracteres.\n",
        "\n",
        "Pero existen más, a continuación los veremos.\n"
      ]
    },
    {
      "cell_type": "markdown",
      "metadata": {
        "id": "myUkN8YhmKS0"
      },
      "source": [
        "#### Integer (Números enteros)"
      ]
    },
    {
      "cell_type": "code",
      "metadata": {
        "id": "KEmczL75y2-R"
      },
      "source": [
        "# 0, 1, 2, etc...\n",
        "# <class 'int'>\n",
        "mi_numero = 0\n",
        "cantidad_de_monedas = 100\n",
        "print(type(mi_numero))"
      ],
      "execution_count": null,
      "outputs": []
    },
    {
      "cell_type": "markdown",
      "metadata": {
        "id": "nU2QAWdOmSq2"
      },
      "source": [
        "#### Float (Números decimales)"
      ]
    },
    {
      "cell_type": "code",
      "metadata": {
        "id": "UXWmFJT2l7GF"
      },
      "source": [
        "# decimales. 0.2, 100.01, etc...\n",
        "# <class 'float'>\n",
        "califacion_alumno_A = 95.5\n",
        "cambio_dinero = 0.5\n",
        "print(type(cambio_dinero))"
      ],
      "execution_count": null,
      "outputs": []
    },
    {
      "cell_type": "markdown",
      "metadata": {
        "id": "tOF8S_i4mrlm"
      },
      "source": [
        "#### String (Texto)"
      ]
    },
    {
      "cell_type": "code",
      "metadata": {
        "id": "fABSRkSal8_1"
      },
      "source": [
        "# Textos, \"este es un texto\"\n",
        "# <class 'str'>\n",
        "nombre_usuario = \"paquito\"\n",
        "fruta = \"platano\"\n",
        "print(type(fruta))"
      ],
      "execution_count": null,
      "outputs": []
    },
    {
      "cell_type": "markdown",
      "metadata": {
        "id": "A7lfaQTmmuHL"
      },
      "source": [
        "####  List (Listas)"
      ]
    },
    {
      "cell_type": "code",
      "metadata": {
        "id": "iIhoFkS1l_wD"
      },
      "source": [
        "# su sintaxis es -> [elementos de la lista ]\n",
        "lista_de_super = [\"platano\", \"maiz\", \"peras\"]"
      ],
      "execution_count": null,
      "outputs": []
    },
    {
      "cell_type": "markdown",
      "metadata": {
        "id": "6NMrLIZvmxlM"
      },
      "source": [
        "#### Tuples (Tuplas)"
      ]
    },
    {
      "cell_type": "code",
      "metadata": {
        "id": "SnfPQQw4mBzv"
      },
      "source": [
        "# (), son inmutables, no pueden cambiar\n",
        "# <class 'tuple'>\n",
        "nombre_de_usuario = (\"juan\", \"perez\")\n",
        "print(type(nombre_de_usuario))"
      ],
      "execution_count": null,
      "outputs": []
    },
    {
      "cell_type": "markdown",
      "metadata": {
        "id": "fUmjuK5Gm9dv"
      },
      "source": [
        "#### Dictionary (Diccionario)"
      ]
    },
    {
      "cell_type": "code",
      "metadata": {
        "id": "chA1Ef0wmDpn"
      },
      "source": [
        "# {\"key\": value} -> {\"un_peso\": 1, \"dos_pesos\": 2}\n",
        "# {\"usuario_1\": True, \"usuario_2\": False}\n",
        "# <class 'dict'>\n",
        "credenciales_usuario = {\"juan_perez\": False, \"admin\": True}\n",
        "print(type(credenciales_usuario))"
      ],
      "execution_count": null,
      "outputs": []
    },
    {
      "cell_type": "markdown",
      "metadata": {
        "id": "5c6dQ55lnCet"
      },
      "source": [
        "#### Boolean (Booleano)"
      ]
    },
    {
      "cell_type": "code",
      "metadata": {
        "id": "bvL-PujKmFSe"
      },
      "source": [
        "# True -> Verdadero\n",
        "# False -> Falso\n",
        "# <class 'bool'>\n",
        "tiene_permisos = False\n",
        "mi_condicion = True\n",
        "print(type(mi_condicion))"
      ],
      "execution_count": null,
      "outputs": []
    },
    {
      "cell_type": "markdown",
      "metadata": {
        "id": "qMJbPw4XnIYY"
      },
      "source": [
        "#### Set (Conjunto)"
      ]
    },
    {
      "cell_type": "code",
      "metadata": {
        "id": "dWCiBa8YmGo-"
      },
      "source": [
        "# {0, \"palabra\"}, no puede repetir datos, se usan para almacenar informacion y \n",
        "# verificar que no se repita\n",
        "# <class 'set'>\n",
        "my_set = {\"platano\", \"pera\", \"manzana\"}\n",
        "print(type(my_set))"
      ],
      "execution_count": null,
      "outputs": []
    },
    {
      "cell_type": "markdown",
      "metadata": {
        "id": "UEgKjRK_IF3Z"
      },
      "source": [
        "## Conversión de datos"
      ]
    },
    {
      "cell_type": "markdown",
      "metadata": {
        "id": "pTnE-CR0n0E_"
      },
      "source": [
        "\n",
        "Sintaxis\n",
        "```\n",
        "tipo_de_dato_objetivo(variable)\n",
        "```\n",
        "\n"
      ]
    },
    {
      "cell_type": "code",
      "metadata": {
        "id": "p1xMD1oxn-Dx"
      },
      "source": [
        "\"\"\"\n",
        "ejemplo\n",
        "\"\"\""
      ],
      "execution_count": null,
      "outputs": []
    },
    {
      "cell_type": "markdown",
      "metadata": {
        "id": "HYyQ3PjM3xCn"
      },
      "source": [
        "## ¿Cómo recibir datos del usuario?"
      ]
    },
    {
      "cell_type": "code",
      "metadata": {
        "id": "N-XHxSkr3z5m"
      },
      "source": [
        "# input()\n",
        "\n",
        "# input() puede recibir el texto a mostrar -> variable = input(\"Ingrese texto: \")\n",
        "# input() puede estar solo y sería -> variable = input()"
      ],
      "execution_count": 1,
      "outputs": []
    },
    {
      "cell_type": "markdown",
      "metadata": {
        "id": "AGL72iZ-0l_a"
      },
      "source": [
        "## ¿Cómo imprimir en la pantalla?\n",
        "\n",
        "Python nos provee la funcion print, es una funcion que recibe el contenido a imprimir y lo imprime en la pantalla.\n",
        "\n",
        "El mensaje puede ser un string o cualquier otro objeto, el objeto será convertido a un string antes de ser escrito en la pantalla."
      ]
    },
    {
      "cell_type": "code",
      "metadata": {
        "id": "tMhFdTZs1WQi"
      },
      "source": [
        "print(\"Imprime el texto\")\n",
        "\n",
        "mi_numero = 5\n",
        "print(mi_numero)"
      ],
      "execution_count": null,
      "outputs": []
    },
    {
      "cell_type": "markdown",
      "metadata": {
        "id": "DAF6_c1UHGKq"
      },
      "source": [
        "## Internet tu mejor aliado\n",
        "\n",
        "La comunidad de Python es gigantesca, entonces considera usar internet cuando te encuentres atorado con alguna duda.\n",
        "\n",
        "Unicamente escribe \"Python\" primero, y acontinuación tu duda, y observa los distintos resultados que aparecen (De preferencia en inglés).\n",
        "\n",
        "Ejemplo.- \"Python, how to cast integer to string\"\n",
        "\"Python cómo castear integer a string\"\n",
        "\n",
        "\n",
        "Algunos sitios que recomiendo son:\n",
        "\n",
        "www.w3schools.com/python/\n",
        "\n",
        "stack overflow para dudas particulares."
      ]
    },
    {
      "cell_type": "markdown",
      "metadata": {
        "id": "9YS2941QF5rp"
      },
      "source": [
        "## Ejercicio\n",
        "### 1.- Registro de usuarios\n",
        "\n",
        "Desarrolle un código que recibe el nombre y apellido de un usuario\n",
        "\n",
        "A continuación deberá darle la bienvenida.\n",
        "Ejemplo: \"Hola, usuario 1, bienvenido al programa\""
      ]
    },
    {
      "cell_type": "code",
      "metadata": {
        "id": "N8eIoM_tnWpE"
      },
      "source": [
        "\"\"\"\n",
        "Registro de usuarios\n",
        "\"\"\""
      ],
      "execution_count": null,
      "outputs": []
    },
    {
      "cell_type": "markdown",
      "metadata": {
        "id": "rJpL2XPKnbA9"
      },
      "source": [
        "### 2.- Registro de monedas\n",
        "\n",
        "Desarrolle un código que reciba el nombre de usuario\n",
        "y la cantidad de monedas que tiene\n",
        "\n",
        "A continuación, deberá imprimir en un formato amigable para el usuario\n",
        "\n",
        "Ejemplo: \"Hola, usuario 1, bienvenido al programa\"\n",
        "         \"Usted acaba de registrar 5 moneda(s)\""
      ]
    },
    {
      "cell_type": "code",
      "metadata": {
        "id": "q1ew10X2Gh9_"
      },
      "source": [
        "\"\"\"\n",
        "Registro de monedas\n",
        "\"\"\""
      ],
      "execution_count": null,
      "outputs": []
    }
  ]
}